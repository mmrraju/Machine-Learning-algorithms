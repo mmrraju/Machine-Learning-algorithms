{
 "cells": [
  {
   "cell_type": "code",
   "execution_count": 1,
   "metadata": {},
   "outputs": [
    {
     "name": "stdout",
     "output_type": "stream",
     "text": [
      "[ 85  75 130]\n",
      "Scalar product:  [400 500 600]\n",
      "Vector mean:  [28.33333333 25.         43.33333333]\n",
      "Dot product:  3200\n",
      "Sum of square:  7700\n",
      "Magnitude or length:  87.74964387392122\n",
      "Distance between two vector:  51.96152422706632\n"
     ]
    }
   ],
   "source": [
    "import numpy as np\n",
    "import pandas as pd\n",
    "import math\n",
    "import random\n",
    "import matplotlib.pyplot as plt\n",
    "import matplotlib.image as mpimg\n",
    "import functools # import function tools working with reduce()\n",
    "from ipynb.fs.full.vector import *\n",
    "\n",
    "\n",
    "class KMeans:\n",
    "    '''peforms k-means clustering'''\n",
    "    def __init__(self, k):\n",
    "        self.k = k # number of cluser\n",
    "        self.means = None # mean of cluster \n",
    "        \n",
    "    def classify(self, input):\n",
    "        '''return the index of the cluster closest to the input'''\n",
    "        return min(range(self.k), key = lambda i: squared_distance(input, self.means[i]))\n",
    "    \n",
    "    def train(self, inputs):\n",
    "        # choose k random points as the initial means\n",
    "        self.means = random.sample(inputs, self.k)\n",
    "        assignments = None\n",
    "        \n",
    "        while True:\n",
    "            # find assignments\n",
    "            new_assignments = map(self.classify, inputs)\n",
    "            # if no assignments have changed we are done\n",
    "            if assignments == new_assignments:\n",
    "                return\n",
    "            \n",
    "            # otherwise keep the new assignment\n",
    "            assignments = new_assignments\n",
    "            \n",
    "            # compute new mean based on the new assingnments\n",
    "            for i in range(self.k):\n",
    "                # find all the points assigned to cluster i\n",
    "                i_points = [p for p , a in zip(inputs, assignments) if a == i]\n",
    "                \n",
    "                # make sure i_points is not empty\n",
    "                if i_points:\n",
    "                    self.means[i] = vector_mean(i_points)                   \n",
    "\n",
    "def squared_clustering_errors(inputs, k):\n",
    "    clusterer = KMeans(k)\n",
    "    clusterer.train(inputs)\n",
    "    means = clusterer.means\n",
    "    assignments = map(clusterer.classify, inputs)\n",
    "    return sum(squared_distance(input, means[cluster]) for input, cluster in zip(inputs, assignments))\n"
   ]
  },
  {
   "cell_type": "code",
   "execution_count": null,
   "metadata": {},
   "outputs": [],
   "source": [
    "random.seed(0)\n",
    "\"\"\"inputs = ([-44, 5], [-16, 10], [18, 20], [-50, 0], [-45, 5], [-40, 7], [-35, -1], [-27, -10], [-22, -18], [-20, -15],\n",
    "         [-18, -7], [-12, -20], [-9, -19], [-11, -10], [-10, -8], [-12, -8], [10, 10], [10, 12], [20, 20], [20, 18],\n",
    "         [25, 25], [20, 25], [28, 10],)\"\"\"\n",
    "clusterer = KMeans(3)\n",
    "#clusterer.train(inputs)\n",
    "print(clusterer.means)"
   ]
  },
  {
   "cell_type": "code",
   "execution_count": null,
   "metadata": {},
   "outputs": [],
   "source": [
    "\n",
    "ks = range(1, len(inputs)+1)\n",
    "errors = [squared_clustering_errors(inputs, k) for k in ks]\n",
    "plt.plot(ks, errors)\n",
    "plt.xtricks(ks)\n",
    "plt.title(\"Total error vs. # of clusters\")\n",
    "plt.ylabel(\"Total squared error\")\n",
    "plt.xlabel(\"K\")"
   ]
  },
  {
   "cell_type": "code",
   "execution_count": null,
   "metadata": {},
   "outputs": [],
   "source": []
  }
 ],
 "metadata": {
  "kernelspec": {
   "display_name": "Python 3",
   "language": "python",
   "name": "python3"
  },
  "language_info": {
   "codemirror_mode": {
    "name": "ipython",
    "version": 3
   },
   "file_extension": ".py",
   "mimetype": "text/x-python",
   "name": "python",
   "nbconvert_exporter": "python",
   "pygments_lexer": "ipython3",
   "version": "3.8.5"
  }
 },
 "nbformat": 4,
 "nbformat_minor": 4
}
