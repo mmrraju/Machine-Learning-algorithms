{
 "cells": [
  {
   "cell_type": "code",
   "execution_count": null,
   "metadata": {},
   "outputs": [],
   "source": [
    "from ipynb.fs.full.KMeans import *\n",
    "from ipynb.fs.full.vector import *\n",
    "import matplotlib.image as mpimg\n",
    "\n",
    "img =  mpimg.imread(\"index.jpeg\")\n",
    "top_row = img[0]\n",
    "top_left_pixel = top_row[0]\n",
    "red, green, blue = top_left_pixel\n",
    "\n",
    "pixels = [pixel for row in img for pixel in row ]\n",
    "### feed them to our cluster\n",
    "clusterer = KMeans(5)\n",
    "clusterer.train(pixels)\n",
    "\n",
    "### now we construct new image with same format\n",
    "def recolor(pixel):\n",
    "    cluster = clusterer.classify(pixel)\n",
    "    return clusterer.means[cluster]\n",
    "new_image = [[recolor(pixel) for pixel in row] for row in img]\n",
    "plt.imshow(new_img)\n",
    "plt.axis('off')\n",
    "plt.show()"
   ]
  }
 ],
 "metadata": {
  "kernelspec": {
   "display_name": "Python 3",
   "language": "python",
   "name": "python3"
  },
  "language_info": {
   "codemirror_mode": {
    "name": "ipython",
    "version": 3
   },
   "file_extension": ".py",
   "mimetype": "text/x-python",
   "name": "python",
   "nbconvert_exporter": "python",
   "pygments_lexer": "ipython3",
   "version": "3.8.5"
  }
 },
 "nbformat": 4,
 "nbformat_minor": 4
}
