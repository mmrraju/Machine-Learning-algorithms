{
 "cells": [
  {
   "cell_type": "code",
   "execution_count": 48,
   "metadata": {},
   "outputs": [],
   "source": [
    "'''Gradient Descent fro y = (x+5)^2'''\n",
    "#Import importent library and package\n",
    "import pandas as pd\n",
    "import numpy as np\n",
    "import matplotlib.pyplot as plt"
   ]
  },
  {
   "cell_type": "code",
   "execution_count": 49,
   "metadata": {},
   "outputs": [],
   "source": [
    "current_x = 3\n",
    "learningRate = 0.01\n",
    "precision = 0.000001\n",
    "max_iters = 100\n",
    "iters = 0\n",
    "df = lambda x: 2*(x+5)"
   ]
  },
  {
   "cell_type": "code",
   "execution_count": null,
   "metadata": {},
   "outputs": [],
   "source": []
  },
  {
   "cell_type": "code",
   "execution_count": 42,
   "metadata": {},
   "outputs": [],
   "source": [
    "def calculateCostFunction(theta, X, y):\n",
    "    m = len(y)\n",
    "    predictions_y = X.dot(theta)\n",
    "    cost = (1/2*m) * np.sum(np.square(predictions_y - y))\n",
    "    return cost\n",
    "\n",
    "\n",
    "def gradientDescent(X, y, theta, learningRate, iterations=50):\n",
    "    m = len(y)\n",
    "    cost_history = np.zeros(iterations)\n",
    "    theta_history = np.zeros((iterations, 2))\n",
    "    for i in range(iterations):\n",
    "        prediction = np.dot(X, theta)\n",
    "        theta = theta - (1/m)*learningRate*(X.T.dot((prediction-y)))\n",
    "        theta_history[i, :] = theta.T\n",
    "        cost_history[i] = calculateCostFunction(theta, X, y)\n",
    "        \n",
    "    return theta, cost_history, theta_history\n"
   ]
  },
  {
   "cell_type": "code",
   "execution_count": 46,
   "metadata": {},
   "outputs": [
    {
     "name": "stdout",
     "output_type": "stream",
     "text": [
      "Final cost: 133343.259\n"
     ]
    }
   ],
   "source": [
    "def main():\n",
    "    pizza_size = np.array([6, 8, 12, 14, 18])\n",
    "    pizza_price = np.array([350, 775, 1150, 1395, 1675])\n",
    "    lr = 0.01\n",
    "    i = 1000\n",
    "    theta = 1\n",
    "    X_b = np.c_[np.ones((len(pizza_size), 1)), pizza_size]\n",
    "    theta, costHistory, thetaHistory = gradientDescent(pizza_size, pizza_price, theta, lr, i)\n",
    "    #print(\"Theta0:   {:0.3f},\\nTheta1:     {:0.3f}\".format(theta[0], theta[1]))\n",
    "    print(\"Final cost: {:0.3f}\".format(costHistory[-1]))\n",
    "\n",
    "if __name__=='__main__':\n",
    "    main()\n",
    "\n"
   ]
  },
  {
   "cell_type": "code",
   "execution_count": null,
   "metadata": {},
   "outputs": [],
   "source": []
  }
 ],
 "metadata": {
  "kernelspec": {
   "display_name": "Python 3",
   "language": "python",
   "name": "python3"
  },
  "language_info": {
   "codemirror_mode": {
    "name": "ipython",
    "version": 3
   },
   "file_extension": ".py",
   "mimetype": "text/x-python",
   "name": "python",
   "nbconvert_exporter": "python",
   "pygments_lexer": "ipython3",
   "version": "3.7.6"
  }
 },
 "nbformat": 4,
 "nbformat_minor": 4
}
