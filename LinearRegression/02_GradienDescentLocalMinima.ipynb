{
 "cells": [
  {
   "cell_type": "code",
   "execution_count": 103,
   "metadata": {},
   "outputs": [],
   "source": [
    "'''Gradient Descent find local/global minima for y = (x+5)^2'''\n",
    "#Import importent library and package\n",
    "import pandas as pd\n",
    "import numpy as np\n",
    "import matplotlib.pyplot as plt"
   ]
  },
  {
   "cell_type": "code",
   "execution_count": 104,
   "metadata": {},
   "outputs": [],
   "source": [
    "def localMinimum(previousStepSize, precision, learningRate, max_iters, iters, cur_x):   \n",
    "    while previousStepSize>precision and iters<max_iters:\n",
    "        prev_x = cur_x\n",
    "        cur_x = cur_x - learningRate * df(prev_x)\n",
    "        previousStepSize = abs(cur_x - prev_x)\n",
    "        iters +=1\n",
    "        #print(\"Iterations \", iters, \"\\nX value is \", cur_x)\n",
    "\n",
    "    return cur_x"
   ]
  },
  {
   "cell_type": "code",
   "execution_count": 105,
   "metadata": {
    "scrolled": true
   },
   "outputs": [
    {
     "name": "stdout",
     "output_type": "stream",
     "text": [
      "The local minima occurs at  -4.995175452220447\n"
     ]
    }
   ],
   "source": [
    "def main():\n",
    "    cur_x = 5\n",
    "    learningRate = 0.01\n",
    "    precision = 0.0001 # Tel us when to stop the algorithm\n",
    "    previousStepSize = 1\n",
    "    max_iters = 1500*3\n",
    "    iters = 0\n",
    "    df = lambda x: 2*(x+5)\n",
    "    print(\"The local minima occurs at \", localMinimum(previousStepSize, precision, learningRate, max_iters, iters, cur_x))\n",
    "    \n",
    "    \n",
    "    \n",
    "if __name__=='__main__':\n",
    "    main()"
   ]
  },
  {
   "cell_type": "code",
   "execution_count": null,
   "metadata": {},
   "outputs": [],
   "source": []
  }
 ],
 "metadata": {
  "kernelspec": {
   "display_name": "Python 3",
   "language": "python",
   "name": "python3"
  },
  "language_info": {
   "codemirror_mode": {
    "name": "ipython",
    "version": 3
   },
   "file_extension": ".py",
   "mimetype": "text/x-python",
   "name": "python",
   "nbconvert_exporter": "python",
   "pygments_lexer": "ipython3",
   "version": "3.7.6"
  }
 },
 "nbformat": 4,
 "nbformat_minor": 4
}
