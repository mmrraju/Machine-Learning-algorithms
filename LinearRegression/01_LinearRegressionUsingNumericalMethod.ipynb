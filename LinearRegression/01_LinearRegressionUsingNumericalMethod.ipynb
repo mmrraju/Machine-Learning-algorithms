{
 "cells": [
  {
   "cell_type": "code",
   "execution_count": 23,
   "metadata": {},
   "outputs": [],
   "source": [
    "# Import importent library and package\n",
    "import pandas as pd\n",
    "import numpy as np\n",
    "import matplotlib.pyplot as plt"
   ]
  },
  {
   "cell_type": "code",
   "execution_count": 24,
   "metadata": {},
   "outputs": [],
   "source": [
    "\"\"\"The general equation of a straight line is y = mx + c, where m is the gradient, and y = c is the value where\n",
    "the line cuts the y-axis. This number c is called the intercept on the y-axis. Key Point. The equation of a\n",
    "straight line with gradient m and intercept c on the y-axis is y = mx + c.\"\"\"\n",
    "def estimateCoefficient(x, y):\n",
    "    '''Numerical analysis method'''\n",
    "    m = ((np.mean(x)*np.mean(y)) - np.mean(x*y)) / ((np.mean(x))**2 - np.mean(x**2))\n",
    "    c = np.mean(y) - m*np.mean(x)\n",
    "    return m, c\n",
    "\n",
    "def plotRegressionLine(x, y, m, c):\n",
    "    # Plotting the actual points as scatter plot\n",
    "    plt.scatter(x, y, color='m', marker='o', s=30)\n",
    "    \n",
    "    predicted_price = c + m*x\n",
    "    \n",
    "    # Plotting the regression line\n",
    "    plt.plot(x, predicted_price, color='g')\n",
    "    plt.xlabel('Pizza Size')\n",
    "    plt.ylabel('Pizza Price')\n",
    "    \n"
   ]
  },
  {
   "cell_type": "code",
   "execution_count": 25,
   "metadata": {},
   "outputs": [
    {
     "name": "stdout",
     "output_type": "stream",
     "text": [
      "Estimated coefficients:\n",
      " m = 107.21491228070172 \n",
      " c = -174.69298245614004\n",
      "\n",
      "Linear Regression best fit line\n"
     ]
    },
    {
     "data": {
      "image/png": "[encoded data removed]",
      "text/plain": [
       "<Figure size 432x288 with 1 Axes>"
      ]
     },
     "metadata": {
      "needs_background": "light"
     },
     "output_type": "display_data"
    }
   ],
   "source": [
    "def main():\n",
    "    pizza_size = np.array([6, 8, 12, 14, 18])\n",
    "    pizza_price = np.array([350, 775, 1150, 1395, 1675])\n",
    "    b = estimateCoefficient(pizza_size, pizza_price)\n",
    "    m, c = b[0], b[1]\n",
    "    print(\"Estimated coefficients:\\n m = {} \\n c = {}\".format(m, c))\n",
    "    # Plotting regression line\n",
    "    print(\"\\nLinear Regression best fit line\")\n",
    "    plotRegressionLine(pizza_size, pizza_price, m, c)\n",
    "    plt.show()\n",
    "\n",
    "if __name__=='__main__':\n",
    "    main()"
   ]
  },
  {
   "cell_type": "code",
   "execution_count": null,
   "metadata": {},
   "outputs": [],
   "source": []
  }
 ],
 "metadata": {
  "kernelspec": {
   "display_name": "Python 3",
   "language": "python",
   "name": "python3"
  },
  "language_info": {
   "codemirror_mode": {
    "name": "ipython",
    "version": 3
   },
   "file_extension": ".py",
   "mimetype": "text/x-python",
   "name": "python",
   "nbconvert_exporter": "python",
   "pygments_lexer": "ipython3",
   "version": "3.7.6"
  }
 },
 "nbformat": 4,
 "nbformat_minor": 4
}
